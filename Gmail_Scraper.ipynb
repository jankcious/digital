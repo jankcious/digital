{
 "cells": [
  {
   "cell_type": "code",
   "execution_count": 202,
   "metadata": {
    "collapsed": true
   },
   "outputs": [],
   "source": [
    "import email\n",
    "import hashlib\n",
    "import imaplib\n",
    "import os\n",
    "from collections import defaultdict, Counter\n",
    "import platform\n",
    "from gmailsecret import password, userName"
   ]
  },
  {
   "cell_type": "code",
   "execution_count": 204,
   "metadata": {
    "collapsed": false
   },
   "outputs": [],
   "source": [
    "mail = imaplib.IMAP4_SSL('imap.gmail.com')\n",
    "typ, accountDetails = mail.login(userName, password)"
   ]
  },
  {
   "cell_type": "code",
   "execution_count": 205,
   "metadata": {
    "collapsed": false
   },
   "outputs": [
    {
     "name": "stdout",
     "output_type": "stream",
     "text": [
      "OK\n",
      "[b'jason.becker86@gmail.com authenticated (Success)']\n"
     ]
    }
   ],
   "source": [
    "print(typ)\n",
    "print(accountDetails)"
   ]
  },
  {
   "cell_type": "code",
   "execution_count": 206,
   "metadata": {
    "collapsed": false
   },
   "outputs": [
    {
     "data": {
      "text/plain": [
       "('OK',\n",
       " [b'(\\\\HasNoChildren) \"/\" \"Bath and Body Works\"',\n",
       "  b'(\\\\HasNoChildren) \"/\" \"Berkeley\"',\n",
       "  b'(\\\\HasNoChildren) \"/\" \"Downloaded\"',\n",
       "  b'(\\\\HasNoChildren) \"/\" \"Forwards\"',\n",
       "  b'(\\\\HasNoChildren) \"/\" \"Future Job\"',\n",
       "  b'(\\\\HasNoChildren) \"/\" \"Great Dane\"',\n",
       "  b'(\\\\HasNoChildren) \"/\" \"Groupon\"',\n",
       "  b'(\\\\HasNoChildren) \"/\" \"INBOX\"',\n",
       "  b'(\\\\HasNoChildren) \"/\" \"Lydia\"',\n",
       "  b'(\\\\HasNoChildren) \"/\" \"Montana\"',\n",
       "  b'(\\\\HasNoChildren) \"/\" \"Notes\"',\n",
       "  b'(\\\\HasNoChildren) \"/\" \"Ordering Stuff\"',\n",
       "  b'(\\\\HasNoChildren) \"/\" \"Summer Science Camp 08\"',\n",
       "  b'(\\\\HasNoChildren) \"/\" \"Teaching ideas\"',\n",
       "  b'(\\\\HasNoChildren) \"/\" \"VideoGame Making\"',\n",
       "  b'(\\\\HasNoChildren) \"/\" \"West Millbrook\"',\n",
       "  b'(\\\\HasChildren \\\\Noselect) \"/\" \"[Gmail]\"',\n",
       "  b'(\\\\All \\\\HasNoChildren) \"/\" \"[Gmail]/All Mail\"',\n",
       "  b'(\\\\Drafts \\\\HasNoChildren) \"/\" \"[Gmail]/Drafts\"',\n",
       "  b'(\\\\HasNoChildren \\\\Important) \"/\" \"[Gmail]/Important\"',\n",
       "  b'(\\\\HasNoChildren \\\\Sent) \"/\" \"[Gmail]/Sent Mail\"',\n",
       "  b'(\\\\HasNoChildren \\\\Junk) \"/\" \"[Gmail]/Spam\"',\n",
       "  b'(\\\\Flagged \\\\HasNoChildren) \"/\" \"[Gmail]/Starred\"',\n",
       "  b'(\\\\HasNoChildren \\\\Trash) \"/\" \"[Gmail]/Trash\"'])"
      ]
     },
     "execution_count": 206,
     "metadata": {},
     "output_type": "execute_result"
    }
   ],
   "source": [
    "mail.list()"
   ]
  },
  {
   "cell_type": "code",
   "execution_count": 207,
   "metadata": {
    "collapsed": false,
    "scrolled": true
   },
   "outputs": [
    {
     "name": "stdout",
     "output_type": "stream",
     "text": [
      "b'7 8 11 12 13 14 16 17 19 20 21 22 23 24 25 30 37 38 39 45 49 50 57 59 60 61 69 71 73 74 79 154 155 158 188 215 248 249 287 324 348 407 424 425 434 435 450 451 484 487 525 551 555 558 575 578 588 595 612 642 647 661 683 741 747 748 751 758 765 834 863 867 880 881 890 914 921 928 932 989 991 1001 1039 1047 1052 1053 1062 1082 1084 1087 1091 1096 1121 1122 1125 1131 1132 1137 1142 1146 1180 1198 1203 1218 1235 1260 1289 1311 1312 1322 1331 1333 1360 1368 1386 1394 1395 1399 1413 1418 1440 1441 1460 1476 1493 1495 1501 1509 1512 1530 1531 1630 1674 1675 1686 1693 1751 1752 1753 1754 1758 1760 1770 1773 1782 1806 1827 1838 1849 1858 1869 1877 1878 1900 1901 1903 1904 1907 1908 1910 1911 1936 1952 1953 1959 1960 1961 1962 1963 1964 1965 1966 1967 1994 2100 2101 2102 2103 2104 2105 2108 2109 2110 2111 2112 2113 2125 2140 2149 2150 2151 2170 2171 2172 2173 2175 2176 2177 2179 2185 2201 2236 2237 2249 2257 2275 2280 2281 2282 2283 2284 2285 2286 2287 2288 2289 2313 2318 2319 2326 2327 2328 2329 2330 2331 2332 2333 2334 2335 2336 2341 2342 2343 2344 2345 2357 2358 2359 2360 2361 2367 2368 2369 2370 2372 2373 2374 2375 2376 2377 2386 2395 2396 2404 2407 2423 2424 2425 2426 2427 2428 2429 2430 2431 2432 2433 2434 2448 2449 2450 2454 2455 2456 2457 2471 2472 2473 2474 2483 2495 2496 2499 2500 2501 2503 2509 2510 2511 2512 2514 2516 2518 2519 2520 2521 2522 2523 2524 2525 2526 2527 2529 2530 2532 2534 2535 2536 2537 2538 2539 2540 2541 2542 2543 2544 2545 2546 2547 2548 2549 2550 2551 2552 2553 2554 2558 2559 2560 2561 2562 2563 2564 2565 2566 2567 2572 2573 2574 2575 2576 2577 2578 2584 2585 2586 2601 2602 2603 2604 2605 2606 2607 2608 2609 2610 2611 2612 2613 2614 2615 2616 2619 2620 2621 2623 2624 2625 2626 2627 2628 2629 2630 2631 2634 2635 2636 2637 2638 2639 2653 2654 2655 2656 2657 2658 2659 2660 2661 2662 2663 2664 2665 2666 2667 2668 2673 2674 2676 2677 2678 2679 2680 2681 2683 2684 2685 2686 2687 2688 2689 2690 2691 2692 2693 2694 2695 2696 2697 2719 2720 2721 2722 2723 2724 2725 2745 2746 2747 2748 2749 2750 2753 2755 2757 2758 2759 2760 2761 2762 2763 2764 2765 2766 2767 2768 2769 2770 2773 2774 2775 2776 2781 2782 2783 2785 2786 2787 2788 2789 2790 2791 2792 2793 2794 2795 2803 2804 2810 2812 2820 2821 2822 2823 2827 2828 2829 2830 2831 2832 2833 2834 2835 2836 2838 2839 2840 2842 2843 2844 2845 2847 2848 2850 2862 2863 2865 2871 2872 2874 2875 2876 2877 2878 2881 2937 2938 2939 2940 2941 2981 3010 3013 3014 3015 3016 3027 3028 3035 3044 3045 3046 3075 3076 3077 3107 3139 3140 3141 3142 3143 3145 3146 3230 3231 3232 3240 3241 3242 3243 3244 3245 3246 3563 3570 3571 3572 3573 3597 3649 3652 3732 3733 3758 3759 3761 3762 3763 3765 3772 3773 3774 3777 3778 3779 3780 3781 3782 3783 3784 3798 3799 3800 3801 3831 3832 3910 3911 3912 3964 4084 4177 4256 4283 4309 4379 4450 4600 4601 4602 4603 4604 4607 4608 4609 4611 4891 4951 4953 4954 4956 4958 4959 4960 5177 5178 5180 5181 5184 5190 5197 5217 5218 5305 5369 5370 5371 5372 5409 5449 5462 5597 5702 5703 6017 6137 6138 6140 6249 6251 6252 6266 6268 6399 6400 6401 6402 6406 6407 6408 6411 6412 6413 6415 6416 6417 6418 6419 6420 6421 6422 6424 6425 6426 6427 6428 6516 6520 6521 6522 6523 6571 6572 6577 6579 6582 6656 6657 6670 6690 6713 6716 6717 6728 6731 6732 6733 6734 6756 6804 6806 6807 6808 6835 6870 6898 6902 6905 6910 7105 7106 7108 7109 7111 7112 7140 7141 7142 7202 7206 7207 7209 7210 7211 7224 7226 7228 7229 7230 7231 7232 7233 7234 7235 7236 7237 7238 7239 7240 7241 7243 7244 7245 7246 7247 7249 7250 7251 7252 7253 7254 7256 7257 7259 7260 7261 7262 7263 7264 7267 7272 7302 7304 7309 7383 7386 7387 7389 7459 7484 7485 7497 7576 7692 7693 7707 7718 7731 7815 7818 7819 7875 7877 7878 7896 7897 7903 7906 7908 7930 7931 8135 8136 8138 8142 8246 8278 8279 8290 8304 8328 8330 8478 8501 8683 8745 8750 8751 8752 8753 8756 8773 8774 8789 8860 9021 9045 9057 9178 9529 9531 9551 9560 9567 9668 9679 9681 9683 9684 9685 9686 9687 9689 9690 9942 9945 9948 9949 9995 10000 10303 10310 10312 10436 10816 11593 11645 11713 11715 11972 12008 12009 12538 12543 12725 12731 13025 13072 13552 13699 14107 14160 14365 14379 14571 14601 14612 14738 14831 15045 15071 15231 15377 15762 15887 16116 16148 16218 16307 17035 17048 17234 17247 17438 17494 17736 17761 17940 17992 18021 18251 18402 18426 18512 18668 18669 18670 18677 18683 18684'\n"
     ]
    }
   ],
   "source": [
    "mail.select('inbox')\n",
    "typ, data = mail.search(None, '(X-GM-RAW \"has:attachment\")')\n",
    "print(data[0])"
   ]
  },
  {
   "cell_type": "code",
   "execution_count": 230,
   "metadata": {
    "collapsed": false
   },
   "outputs": [
    {
     "name": "stdout",
     "output_type": "stream",
     "text": [
      "[b'18684 (X-GM-LABELS (\"\\\\\\\\Important\" \"\\\\\\\\Sent\" Downloaded))']\n",
      "<class 'bytes'>\n",
      "The next Part:\n",
      "Part is Multipart: Skipping\n",
      "The next Part:\n",
      "Part is Multipart: Skipping\n",
      "The next Part:\n",
      "Part has no Content-Disposition\n",
      "The next Part:\n",
      "Part has no Content-Disposition\n",
      "The next Part:\n",
      "__test2.xlsx\n",
      "Processing: __test2.xlsx\n",
      "\tStoring: __test2.xlsx\n"
     ]
    }
   ],
   "source": [
    "fileNameCounter = Counter()\n",
    "for msgID in data[0].split()[-1:-2:-1]:\n",
    "    typ, response = mail.fetch(msgID, '(X-GM-LABELS)')\n",
    "    if any(['Downloaded' in str(s) for s in response]):\n",
    "        print(response)\n",
    "        typ, messageParts = mail.fetch(msgID, '(RFC822)')\n",
    "        emailBody = messageParts[0][1]\n",
    "        print(type(emailBody))\n",
    "        finalEmail = email.message_from_string(str(emailBody, 'UTF-8'))\n",
    "        if finalEmail.get_content_maintype() != 'multipart':\n",
    "            print('Not multipart.  Skipping')\n",
    "            continue\n",
    "        for part in finalEmail.walk():\n",
    "            #print(part)\n",
    "            print(\"The next Part:\")\n",
    "            #print(part.as_string())\n",
    "            if part.get_content_maintype() == 'multipart':\n",
    "                print('Part is Multipart: Skipping')\n",
    "                continue\n",
    "            elif part.get('Content-Disposition') is None:\n",
    "                print('Part has no Content-Disposition')\n",
    "                continue\n",
    "            fileName = part.get_filename()\n",
    "            print(fileName)\n",
    "            if fileName is not None:\n",
    "                fileName = ''.join(fileName.splitlines())\n",
    "            if fileName:\n",
    "                print('Processing: {file}'.format(file=fileName))\n",
    "                payload = part.get_payload(decode=True)\n",
    "                if payload:\n",
    "                    fileNameCounter[fileName] += 1\n",
    "                    fileStr, fileExstension = os.path.splitext(fileName)\n",
    "                    if fileNameCounter[fileName] > 1:\n",
    "                        new_fileName = '{file}({suffix}){ext}'.format(suffix=fileNameCounter[fileName],\n",
    "                                                                     file=fileStr, ext=fileExtension)\n",
    "                        print('\\tRenaming and storing: {file} to {new_file}'.format(file=fileName,\n",
    "                                                                                   new_file=new_fileName))\n",
    "                    else:\n",
    "                        new_fileName = fileName\n",
    "                        print('\\tStoring: {file}'.format(file=fileName))\n",
    "                    file_path = os.path.join('attachments', new_fileName)\n",
    "                    if os.path.exists(file_path):\n",
    "                        print('\\tExists in destination: {file}'.format(file=new_fileName))\n",
    "                        continue\n",
    "                    try:\n",
    "                        with open(file_path, 'wb') as fp:\n",
    "                            fp.write(payload)\n",
    "                    except:\n",
    "                        print('Could not store')\n",
    "    #for part in message:\n",
    "    #    fileName = message.get_filename()\n",
    "    #    print(fileName)\n",
    "    #fileName = messageParts[0][1].get_filename()\n",
    "    \n",
    "    #print(fileName)\n",
    "    #emailBody = messageParts[0][1]\n",
    "    #print(emailBody)\n",
    "    #message = email.message_from_string(str(emailBody))\n",
    "    #print(message[:45])"
   ]
  },
  {
   "cell_type": "code",
   "execution_count": null,
   "metadata": {
    "collapsed": false
   },
   "outputs": [],
   "source": [
    "typ, messageParts = mail.fetch('18677', '(RFC822)')\n",
    "print(messageParts)"
   ]
  },
  {
   "cell_type": "code",
   "execution_count": null,
   "metadata": {
    "collapsed": false
   },
   "outputs": [],
   "source": [
    "emailBody = messageParts[0][1]"
   ]
  },
  {
   "cell_type": "code",
   "execution_count": null,
   "metadata": {
    "collapsed": false
   },
   "outputs": [],
   "source": [
    "message = email.message_from_string(str(messageParts))"
   ]
  },
  {
   "cell_type": "code",
   "execution_count": null,
   "metadata": {
    "collapsed": false
   },
   "outputs": [],
   "source": [
    "for part in message.walk():\n",
    "    #print(part)\n",
    "    fileName = part.get_filename()\n",
    "    if fileName is not None:\n",
    "        print(fileName)\n",
    "    else:\n",
    "        print('no filename :(')"
   ]
  },
  {
   "cell_type": "code",
   "execution_count": null,
   "metadata": {
    "collapsed": false
   },
   "outputs": [],
   "source": [
    "print(message)"
   ]
  }
 ],
 "metadata": {
  "kernelspec": {
   "display_name": "Python 3",
   "language": "python",
   "name": "python3"
  },
  "language_info": {
   "codemirror_mode": {
    "name": "ipython",
    "version": 3
   },
   "file_extension": ".py",
   "mimetype": "text/x-python",
   "name": "python",
   "nbconvert_exporter": "python",
   "pygments_lexer": "ipython3",
   "version": "3.5.1"
  }
 },
 "nbformat": 4,
 "nbformat_minor": 0
}
