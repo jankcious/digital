{
 "cells": [
  {
   "cell_type": "markdown",
   "metadata": {},
   "source": [
    "# UnZIPper Module\n",
    "\n",
    "## Modify the filepath below and this script will unZIP any files in that directory."
   ]
  },
  {
   "cell_type": "code",
   "execution_count": 1,
   "metadata": {
    "collapsed": false
   },
   "outputs": [
    {
     "name": "stdout",
     "output_type": "stream",
     "text": [
      "Extracting excel files from all .Zip Export (If Applicable) ...\n",
      "9555_YesterdaysReportTEST_20160224_081632_217587969.zip\n",
      "All Files have been extracted from Zip Files...\n"
     ]
    }
   ],
   "source": [
    "import time\n",
    "import os\n",
    "import zipfile\n",
    "\n",
    "\n",
    "#EDIT THIS FILE PATH TO CUSTOMIZE\n",
    "#filepath = 'c://AUTOBOT - RCAs/Reports'\n",
    "filepath = 'C://users/jason.becker/documents/ipython notebooks/ipython/data'\n",
    "\n",
    "#Extracts all Zip Files in the Folder specified above\n",
    "print('Extracting excel files from all .Zip Export (If Applicable) ...')\n",
    "filelist = [ f for f in os.listdir(filepath) if f.endswith(\".zip\") ]\n",
    "for f in filelist:\n",
    "    print(f)\n",
    "    os.chdir(filepath)\n",
    "    zfile = zipfile.ZipFile(f)\n",
    "    zfile.extractall(filepath)\n",
    "print('All Files have been extracted from Zip Files...')"
   ]
  }
 ],
 "metadata": {
  "kernelspec": {
   "display_name": "Python 3",
   "language": "python",
   "name": "python3"
  },
  "language_info": {
   "codemirror_mode": {
    "name": "ipython",
    "version": 3
   },
   "file_extension": ".py",
   "mimetype": "text/x-python",
   "name": "python",
   "nbconvert_exporter": "python",
   "pygments_lexer": "ipython3",
   "version": "3.5.1"
  }
 },
 "nbformat": 4,
 "nbformat_minor": 0
}
