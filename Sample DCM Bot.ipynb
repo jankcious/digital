{
 "cells": [
  {
   "cell_type": "code",
   "execution_count": 1,
   "metadata": {
    "collapsed": true
   },
   "outputs": [],
   "source": [
    "import selenium as webdriver"
   ]
  },
  {
   "cell_type": "code",
   "execution_count": 24,
   "metadata": {
    "collapsed": false
   },
   "outputs": [
    {
     "name": "stdout",
     "output_type": "stream",
     "text": [
      "Sleeping for 1 second.\n"
     ]
    }
   ],
   "source": [
    "import time\n",
    "from selenium import webdriver\n",
    "from selenium.webdriver.common.keys import Keys\n",
    "\n",
    "browser = webdriver.Firefox()\n",
    "browser.get('https://www.google.com/dfa/trafficking')\n",
    "emailbox = browser.find_element_by_name(\"Email\")\n",
    "emailbox.send_keys('jason.becker@nsamedia.com')\n",
    "emailbox.send_keys(Keys.RETURN)\n",
    "time.sleep(1)\n",
    "print(\"Sleeping for 1 second.\")\n",
    "pwdbox = browser.find_element_by_id('Passwd')\n",
    "pwdbox.send_keys('Jb3.14159')\n",
    "pwdbox.send_keys(Keys.RETURN)\n",
    "#nextbox = browser.find_element_by_name('signIn')\n",
    "#nextbox."
   ]
  },
  {
   "cell_type": "code",
   "execution_count": 8,
   "metadata": {
    "collapsed": false
   },
   "outputs": [],
   "source": [
    "from selenium import webdriver\n",
    "from selenium.webdriver.common.keys import Keys\n",
    "\n",
    "driver = webdriver.Firefox()\n",
    "driver.get(\"http://www.python.org\")"
   ]
  },
  {
   "cell_type": "code",
   "execution_count": 40,
   "metadata": {
    "collapsed": false
   },
   "outputs": [
    {
     "data": {
      "text/plain": [
       "['https://ddm.google.com/analytics/dfa/?defaultDs=1029268:8340#query-tool/builder/1029268:8340/?',\n",
       " 'u.date00=20140101&',\n",
       " 'u.date01=20140212&',\n",
       " '.templateId=5989315&',\n",
       " '.templateType=STANDARD&',\n",
       " '.tab=tb&',\n",
       " '.list=TEMPLATES&templateListButtonPanel.show=MINE&templateDetailsSidebarPanel.tab=REPORT',\n",
       " 'SETUP/']"
      ]
     },
     "execution_count": 40,
     "metadata": {},
     "output_type": "execute_result"
    }
   ],
   "source": [
    "ds_campaign_URL = 'https://ddm.google.com/analytics/dfa/?defaultDs=1029268%3A8340#query-tool/builder/1029268%3A8340/%3F_u.date00%3D20140101%26_u.date01%3D20140212%26_.templateId%3D5989315%26_.templateType%3DSTANDARD%26_.tab%3Dtb%26_.list%3DTEMPLATES%26templateListButtonPanel.show%3DMINE%26templateDetailsSidebarPanel.tab%3DREPORT_SETUP/'\n",
    "ds_campaign_URL = ds_campaign_URL.replace(\"%3D\", \"=\")\n",
    "ds_campaign_URL = ds_campaign_URL.replace(\"%26\", \"&\")\n",
    "ds_campaign_URL = ds_campaign_URL.replace(\"%3F\", \"?\")\n",
    "ds_campaign_URL = ds_campaign_URL.replace(\"%3A\", \":\")\n",
    "\n",
    "split_str = ds_campaign_URL.split(\"_\")\n",
    "#for num, s in enumerate(split_str):\n",
    "#    split_str[num] = s.replace(\"%3D\", \"=\")\n",
    "#    split_str[num] = s.replace(\"%26\", \"&\")\n",
    "#    split_str[num] = s.replace(\"%3F\", \"?\")\n",
    "#    split_str[num] = s.replace(\"%3A\", \":\")\n",
    "    \n",
    "split_str\n",
    "#ds_campaign_URL"
   ]
  }
 ],
 "metadata": {
  "kernelspec": {
   "display_name": "Python 3",
   "language": "python",
   "name": "python3"
  },
  "language_info": {
   "codemirror_mode": {
    "name": "ipython",
    "version": 3
   },
   "file_extension": ".py",
   "mimetype": "text/x-python",
   "name": "python",
   "nbconvert_exporter": "python",
   "pygments_lexer": "ipython3",
   "version": "3.5.1"
  }
 },
 "nbformat": 4,
 "nbformat_minor": 0
}
